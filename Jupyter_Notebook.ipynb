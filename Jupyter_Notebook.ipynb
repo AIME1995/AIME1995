{
  "cells": [
    {
      "cell_type": "markdown",
      "metadata": {
        "id": "view-in-github",
        "colab_type": "text"
      },
      "source": [
        "<a href=\"https://colab.research.google.com/github/AIME1995/AIME1995/blob/main/Jupyter_Notebook.ipynb\" target=\"_parent\"><img src=\"https://colab.research.google.com/assets/colab-badge.svg\" alt=\"Open In Colab\"/></a>"
      ]
    },
    {
      "cell_type": "markdown",
      "metadata": {
        "id": "i4eYnznM3e3h"
      },
      "source": [
        "<center>\n",
        "    <img src=\"https://cf-courses-data.s3.us.cloud-object-storage.appdomain.cloud/IBMDeveloperSkillsNetwork-DS0105EN-SkillsNetwork/labs/Module2/images/SN_web_lightmode.png\" width=\"300\" alt=\"cognitiveclass.ai logo\">\n",
        "</center>\n"
      ]
    },
    {
      "cell_type": "markdown",
      "metadata": {
        "id": "VYGPzDbi3e3i"
      },
      "source": [
        "#### Add your code below following the instructions given in the course\n"
      ]
    },
    {
      "cell_type": "markdown",
      "metadata": {
        "id": "TIGrbg0W3e3j"
      },
      "source": [
        "# Projet data science"
      ]
    },
    {
      "cell_type": "markdown",
      "metadata": {
        "id": "sj62Iyus3e3j"
      },
      "source": [
        "## Introduction\n",
        "La science des données, a le vent en poupre ses derniers temps. Car grace aux données, les entreprises prennent des décisions éclairées pour anticiper sur des opportunités ou sur des risques."
      ]
    },
    {
      "cell_type": "markdown",
      "metadata": {
        "id": "mmQkf3G73e3j"
      },
      "source": [
        "## Les langages de la science des données sont:\n",
        "* Python\n",
        "* SQL\n",
        "* R\n",
        "* Julia"
      ]
    },
    {
      "cell_type": "markdown",
      "metadata": {
        "id": "23ms-pMc3e3j"
      },
      "source": [
        "## La liste des bibliothèques de science des données\n",
        "**Python**\n",
        "* Pandas\n",
        "* Numpy\n",
        "* Sklearn\n",
        "* Matplotlib\n",
        "* seaborn\n",
        "\n",
        "**R**\n",
        "* readr\n",
        "* readxl\n",
        "* readcsv\n",
        "* dplyr\n",
        "* caret\n",
        "* tidyverst\n",
        "* ggplot2\n",
        "* plotly\n"
      ]
    },
    {
      "cell_type": "markdown",
      "metadata": {
        "id": "hyCw758d3e3j"
      },
      "source": [
        "## Tableau des Outils de Science des Données\n",
        "\n",
        "| Catégorie                   | Outil(s)                                                      | Langage(s)                   | Description                                                                                              |\n",
        "|-----------------------------|---------------------------------------------------------------|------------------------------|----------------------------------------------------------------------------------------------------------|\n",
        "| **Langages de Programmation** | Python, R, Julia, SQL, Scala                                   | Python, R, Julia, SQL, Scala | Langages utilisés pour le développement, l'analyse et le traitement des données                        |\n",
        "| **Gestion des Données**     | Pandas, NumPy, Spark, SQL (pour la manipulation des données) | Python, SQL, Scala           | Bibliothèques et outils pour la manipulation, l'analyse et le traitement des données                    |\n",
        "| **Apprentissage Automatique** | Scikit-learn, TensorFlow, PyTorch, Statsmodels               | Python                       | Bibliothèques pour l'apprentissage automatique et l'intelligence artificielle                            |\n",
        "| **Traitement du Langage Naturel** | NLTK, SpaCy, Gensim                                           | Python                       | Outils pour le traitement et l'analyse du langage naturel (NLP)                                          |\n",
        "| **Visualisation des Données** | Matplotlib, Seaborn, Plotly, Tableau, Power BI                | Python, R                    | Bibliothèques et outils pour la création de visualisations graphiques et interactives des données         |\n",
        "| **Environnements de Développement** | Jupyter Notebook/Lab, RStudio, PyCharm, VSCode               | Python, R, Julia             | Environnements interactifs pour le développement, l'analyse et la collaboration sur les données          |\n",
        "| **Gestion de Projet**       | Git, GitHub, GitLab, Bitbucket                                 | -                            | Outils de gestion de version et de collaboration pour le suivi des projets et du code source             |\n",
        "| **Base de Données**         | PostgreSQL, MySQL, MongoDB, SQLite                              | SQL                          | Systèmes de gestion de bases de données relationnelles et non relationnelles pour le stockage des données |\n",
        "\n"
      ]
    },
    {
      "cell_type": "markdown",
      "metadata": {
        "tags": [],
        "id": "CknzKQlT3e3k"
      },
      "source": [
        "## Addition\n",
        "result_addition = 2 + 3\n",
        "print(\"Résultat de l'addition :\", result_addition)\n",
        "\n",
        "## Soustraction\n",
        "result_soustraction = 10 - 5\n",
        "print(\"Résultat de la soustraction :\", result_soustraction)\n",
        "\n",
        "## Multiplication\n",
        "result_multiplication = 4 * 6\n",
        "print(\"Résultat de la multiplication :\", result_multiplication)\n",
        "\n",
        "## Division\n",
        "result_division = 15 / 3\n",
        "print(\"Résultat de la division :\", result_division)\n",
        "\n",
        "## Utilisation de parenthèses pour l'ordre des opérations\n",
        "result_expression = (4 + 3) * 2\n",
        "print(\"Résultat de l'expression avec parenthèses :\", result_expression)\n",
        "\n",
        "## Combinaison d'opérations\n",
        "result_combinaison = 8 / (4 - 2) + 1\n",
        "print(\"Résultat de la combinaison d'opérations :\", result_combinaison)\n"
      ]
    },
    {
      "cell_type": "code",
      "execution_count": null,
      "metadata": {
        "tags": [],
        "id": "P1mVhuXy3e3k",
        "outputId": "a8939524-9409-478a-fa8d-c355e18ce5b9"
      },
      "outputs": [
        {
          "name": "stdout",
          "output_type": "stream",
          "text": [
            "Résultat de l'addition : 5\n",
            "Résultat de la soustraction : 5\n",
            "Résultat de la multiplication : 24\n",
            "Résultat de la division : 5.0\n",
            "Résultat de l'expression avec parenthèses : 14\n",
            "Résultat de la combinaison d'opérations : 5.0\n"
          ]
        }
      ],
      "source": [
        "# Addition\n",
        "result_addition = 2 + 3\n",
        "print(\"Résultat de l'addition :\", result_addition)\n",
        "\n",
        "# Soustraction\n",
        "result_soustraction = 10 - 5\n",
        "print(\"Résultat de la soustraction :\", result_soustraction)\n",
        "\n",
        "# Multiplication\n",
        "result_multiplication = 4 * 6\n",
        "print(\"Résultat de la multiplication :\", result_multiplication)\n",
        "\n",
        "# Division\n",
        "result_division = 15 / 3\n",
        "print(\"Résultat de la division :\", result_division)\n",
        "\n",
        "# Utilisation de parenthèses pour l'ordre des opérations\n",
        "result_expression = (4 + 3) * 2\n",
        "print(\"Résultat de l'expression avec parenthèses :\", result_expression)\n",
        "\n",
        "# Combinaison d'opérations\n",
        "result_combinaison = 8 / (4 - 2) + 1\n",
        "print(\"Résultat de la combinaison d'opérations :\", result_combinaison)\n"
      ]
    },
    {
      "cell_type": "code",
      "execution_count": null,
      "metadata": {
        "tags": [],
        "id": "m44BkvX13e3l",
        "outputId": "b0410b08-e8f9-4434-e178-8a3dec1a4cb4"
      },
      "outputs": [
        {
          "name": "stdout",
          "output_type": "stream",
          "text": [
            "135 minutes équivalent à 2 heures et 15 minutes.\n"
          ]
        }
      ],
      "source": [
        "# Nombre de minutes à convertir\n",
        "minutes_input = 135\n",
        "\n",
        "# Calculer le nombre d'heures\n",
        "hours = minutes_input // 60\n",
        "\n",
        "# Calculer le nombre de minutes restantes après conversion en heures\n",
        "remaining_minutes = minutes_input % 60\n",
        "\n",
        "# Afficher le résultat\n",
        "print(f\"{minutes_input} minutes équivalent à {hours} heures et {remaining_minutes} minutes.\")\n",
        "\n"
      ]
    },
    {
      "cell_type": "markdown",
      "metadata": {
        "tags": [],
        "id": "p_t8yGAf3e3m"
      },
      "source": [
        "## Objectifs de la Science des Données\n",
        "\n",
        "La Science des Données vise à atteindre plusieurs objectifs, notamment :\n",
        "\n",
        "- **Extraction de Connaissances** : Identifier des informations significatives et utiles à partir de données brutes.\n",
        "  \n",
        "- **Modélisation Prédictive** : Développer des modèles pour prédire des comportements futurs ou des résultats inconnus.\n",
        "\n",
        "- **Analyse Statistique** : Utiliser des méthodes statistiques pour comprendre les données et les relations entre les variables.\n",
        "\n",
        "- **Visualisation de Données** : Représenter visuellement les données pour en faciliter la compréhension et l'analyse.\n",
        "\n",
        "- **Optimisation des Décisions** : Aider à prendre des décisions éclairées basées sur les données et les analyses.\n",
        "\n",
        "- **Détection de Modèles** : Identifier des motifs récurrents ou des structures cachées dans les données.\n",
        "\n",
        "- **Amélioration de la Performance** : Optimiser les algorithmes et les modèles pour obtenir de meilleures performances.\n",
        "\n",
        "- **Automatisation des Processus** : Développer des systèmes automatisés pour gérer et analyser les données de manière efficace.\n",
        "\n"
      ]
    },
    {
      "cell_type": "markdown",
      "metadata": {
        "tags": [],
        "id": "4GO92EfT3e3m"
      },
      "source": [
        "|**Auteur**|\n",
        "------------------------------------------------\n",
        "L'auteur de ce document est AIME ADJEGUEDE|\n"
      ]
    }
  ],
  "metadata": {
    "kernelspec": {
      "display_name": "Python",
      "language": "python",
      "name": "conda-env-python-py"
    },
    "language_info": {
      "codemirror_mode": {
        "name": "ipython",
        "version": 3
      },
      "file_extension": ".py",
      "mimetype": "text/x-python",
      "name": "python",
      "nbconvert_exporter": "python",
      "pygments_lexer": "ipython3",
      "version": "3.7.12"
    },
    "colab": {
      "provenance": [],
      "include_colab_link": true
    }
  },
  "nbformat": 4,
  "nbformat_minor": 0
}