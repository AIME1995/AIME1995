{
  "nbformat": 4,
  "nbformat_minor": 0,
  "metadata": {
    "colab": {
      "provenance": [],
      "authorship_tag": "ABX9TyO9g72Ts/zBqCkVj4EGOAgo",
      "include_colab_link": true
    },
    "kernelspec": {
      "name": "python3",
      "display_name": "Python 3"
    },
    "language_info": {
      "name": "python"
    }
  },
  "cells": [
    {
      "cell_type": "markdown",
      "metadata": {
        "id": "view-in-github",
        "colab_type": "text"
      },
      "source": [
        "<a href=\"https://colab.research.google.com/github/AIME1995/AIME1995/blob/main/La%20pr%C3%A9diction%20de%20d%C3%A9sabonnement%20des%20clients%20avec%20le%20MODELE%20LOGISTIC.ipynb\" target=\"_parent\"><img src=\"https://colab.research.google.com/assets/colab-badge.svg\" alt=\"Open In Colab\"/></a>"
      ]
    },
    {
      "cell_type": "markdown",
      "source": [
        "# La régression logistique avec Python\n",
        "On créera un modèle avec des données de télécommunications pour prédire quand ses clients partiront pour un concurrent, afin que vous puissiez prendre des mesures pour conserver le client.  "
      ],
      "metadata": {
        "id": "zYU3Qea5pyiw"
      }
    },
    {
      "cell_type": "markdown",
      "source": [
        "## Introduction à la regression Logistique\n",
        "La régression logistique est une technique statistique et d'apprentissage automatique qui permet de classer les enregistrements d'un ensemble de données en fonction des valeurs des champs de saisie. Supposons que nous ayons un ensemble de données sur les télécommunications que nous aimerions analyser afin de comprendre quels clients pourraient nous quitter le mois prochain. Il s'agit de données clients historiques où chaque ligne représente un client. Imaginez que vous êtes analyste dans cette entreprise et que vous deviez découvrir qui part et pourquoi ? Vous utiliserez le jeu de données pour créer un modèle basé sur des enregistrements historiques et l'utiliser pour prévoir le taux de désabonnement futur au sein du groupe de clients. L'ensemble de données comprend des informations sur les services auxquels chaque client s'est inscrit, des informations sur le compte client, des informations démographiques sur les clients, telles que le sexe et la tranche d'âge, ainsi que sur les clients qui ont quitté l'entreprise au cours du dernier mois. La colonne s'appelle churn. Nous pouvons utiliser la régression logistique pour créer un modèle permettant de prévoir le taux de désabonnement des clients à l'aide des fonctionnalités données. Dans le cadre de la régression logistique, nous utilisons une ou plusieurs variables indépendantes telles que l'ancienneté, l'âge et le revenu pour prédire un résultat, tel que le taux de désabonnement, que nous appelons variable dépendante indiquant si les clients cesseront ou non d'utiliser le service. La régression logistique est analogue à la régression linéaire mais tente de prédire un champ cible catégorique ou discret au lieu d'un champ numérique. Dans le cadre de la régression linéaire, nous pouvons essayer de prédire une valeur continue de variables telles que le prix d'une maison, la tension artérielle d'un patient ou la consommation de carburant d'une voiture. Mais dans le cadre de la régression logistique, nous prédisons une variable binaire telle que oui/non, vrai/faux, succès ou échec, enceinte/non enceinte, etc. Toutes ces variables peuvent être codées comme zéro ou un. Dans la régression logistique, les variables indépendantes doivent être continues. S'ils sont catégoriques, ils doivent être codés de manière fictive ou par indicateur. Cela signifie que nous devons les transformer en une valeur continue.\n",
        "\n",
        "Veuillez noter que la régression logistique peut être utilisée à la fois pour la classification binaire et pour la classification multiclasse.\n",
        "Examinons quelques applications de la régression logistique avant d'expliquer leur fonctionnement.\n",
        "Comme mentionné, la régression logistique est un type d'algorithme de classification, elle peut donc être utilisée dans différentes situations. Par exemple, pour prédire la probabilité qu'une personne subisse une crise cardiaque au cours d'une période donnée, en fonction de notre connaissance de l'âge, du sexe et de l'indice de masse corporelle de la personne. Ou pour prédire le risque de mortalité chez un patient blessé ou pour prédire si un patient est atteint d'une maladie donnée, telle que le diabète, sur la base des caractéristiques observées de ce patient telles que le poids , la taille, la tension artérielle et les résultats de divers tests sanguins, etc.\n",
        "\n",
        "Dans un contexte marketing, nous pouvons l'utiliser pour prévoir la probabilité qu'un client achète un produit ou mette fin à un abonnement, comme nous le ferons dans notre exemple de désabonnement.\n",
        "Nous pouvons également utiliser la régression logistique pour prédire la probabilité de défaillance d'un processus, d'un système ou d'un produit donné. Nous pouvons même l'utiliser pour prévoir la probabilité qu'un propriétaire ne rembourse pas un prêt hypothécaire. Ce sont là de bons exemples de problèmes qui peuvent être résolus à l'aide de la régression logistique. Notez que dans tous ces exemples, non seulement nous prédisons la classe de chaque cas, mais nous mesurons également la probabilité qu'un cas appartienne à une classe spécifique. Il existe différents algorithmes de machine qui permettent de classer ou d'estimer une variable. La question est de savoir quand devons-nous utiliser la régression logistique ?\n",
        "Voici quatre situations dans lesquelles la régression logistique est un bon candidat.\n",
        "* Tout d'abord, lorsque le champ cible de vos données est catégorique ou spécifiquement binaire. Par exemple zéro/un, oui/non, taux de désabonnement ou non, taux de désabonnement positif/négatif, etc.\n",
        "\n",
        "* Ensuite, vous avez besoin de la probabilité de votre prédiction. Par exemple, si vous souhaitez connaître la probabilité qu'un client achète un produit. La régression logistique renvoie un score de probabilité compris entre zéro et un pour un échantillon de données donné. En fait, la régression logistique prédit la probabilité de cet échantillon et nous associons les cas à une classe discrète basée sur cette probabilité.\n",
        "\n",
        "* Troisièmement, si vos données sont linéairement séparables. La limite de décision de la régression logistique est une ligne, un plan ou un hyperplan. Un classificateur classera tous les points d'un côté de la limite de décision comme appartenant à une classe et tous ceux de l'autre côté comme appartenant à l'autre classe. Par exemple, si nous n'avons que deux caractéristiques et que nous n'appliquons aucun traitement polynomial, nous pouvons obtenir une inégalité telle que Thêta zéro plus Thêta 1x1 plus thêta 2x2 est supérieure à zéro, ce qui est un demi-plan facilement tracable. Veuillez noter qu'en utilisant la régression logistique, nous pouvons également obtenir une limite de décision complexe en utilisant également le traitement polynomial. Vous aurez une meilleure idée des limites de décision lorsque vous comprendrez le fonctionnement de la régression logistique.\n",
        "\n",
        "* Quatrièmement, vous devez comprendre l'impact d'une fonctionnalité. Vous pouvez sélectionner les meilleures caractéristiques en fonction de la signification statistique des coefficients ou paramètres du modèle de régression logistique. En d'autres termes, après avoir trouvé les paramètres optimaux, une entité X dont le poids Thêta un est proche de zéro a un effet moindre sur la prédiction que les entités dont les valeurs absolues de Thêta un sont élevées.\n",
        "\n",
        "\n",
        " En effet, cela nous permet de comprendre l'impact d'une variable indépendante sur la variable dépendante tout en contrôlant d'autres variables indépendantes. Regardons à nouveau notre ensemble de données. Nous avons défini les variables indépendantes comme X et les variables dépendantes comme Y. Notez que pour des raisons de simplicité, nous pouvons coder les valeurs cibles ou dépendantes à zéro ou à un. L'objectif de la régression logistique est de construire un modèle pour prédire la classe de chaque échantillon, qui dans ce cas est un client, ainsi que la probabilité que chaque échantillon appartienne à une classe. Cela étant dit, commençons à formaliser le problème. X est notre ensemble de données dans l'espace des nombres réels de m sur n. C'est-à-dire de m dimensions ou entités et de n enregistrements, et Y est la classe que nous voulons prédire, qui peut être nulle ou un. Idéalement, un modèle de régression logistique, appelé chapeau en Y, peut prédire que la classe du client est une, compte tenu de ses caractéristiques X. On peut également démontrer assez facilement que la probabilité qu'un client soit dans la classe zéro peut être calculée comme un moins la probabilité que la classe du client soit un."
      ],
      "metadata": {
        "id": "HFMSmV_Kqnrv"
      }
    },
    {
      "cell_type": "markdown",
      "source": [
        "<a id=\"ref1\"></a>\n",
        "\n",
        "## Quelle est la différence entre la régression linéaire et logistique ?\n",
        "\n",
        "Bien que la régression linéaire soit adaptée à l'estimation de valeurs continues (par exemple, l'estimation du prix de l'immobilier), elle n'est pas le meilleur outil pour prédire la classe d'un point de données observé. Afin d'estimer la classe d'un point de données, nous avons besoin d'une sorte d'indication sur quelle serait la <b>classe la plus probable</b> pour ce point de données. Pour cela, nous utilisons la <b>Régression Logistique</b>.\n",
        "\n",
        "<div class=\"alerte alerte-succès alertsuccess\" style=\"margin-top: 20px\">\n",
        "<font size = 3><strong>Rappel de régression linéaire :</strong></font>\n",
        "<br>\n",
        "<br>\n",
        "     Comme vous le savez, la <b>Régression linéaire</b> trouve une fonction qui relie une variable dépendante continue, <b>y</b>, à certains prédicteurs (variables indépendantes $x_1$, $x_2$, etc.). Par exemple, une régression linéaire simple suppose une fonction de la forme :\n",
        "<br><br>\n",
        "$$\n",
        "y = \\theta_0 + \\theta_1 x_1 + \\theta_2 x_2 + \\cdots\n",
        "$$\n",
        "<br>\n",
        "et trouve les valeurs des paramètres $\\theta_0, \\theta_1, \\theta_2$, etc., où le terme $\\theta_0$ est \"l'origine\". On peut généralement le représenter comme suit :\n",
        "<br><br>\n",
        "$$\n",
        "ℎ_\\theta(𝑥) = \\theta^TX\n",
        "$$\n",
        "<p></p>\n",
        "\n",
        "</div>\n",
        "\n",
        "La régression logistique est une variante de la régression linéaire, utilisée lorsque la variable dépendante observée, <b>y</b>, est catégorique. Il produit une formule qui prédit la probabilité de l'étiquette de classe en fonction des variables indépendantes.\n",
        "\n",
        "La régression logistique ajuste une courbe spéciale en forme de S en prenant la fonction de régression linéaire et en transformant l'estimation numérique en probabilité avec la fonction suivante, appelée fonction sigmoïde 𝜎 :\n",
        "\n",
        "$$\n",
        "ℎ\\_\\theta(𝑥) = \\sigma({\\theta^TX}) = \\frac {e^{(\\theta\\_0 + \\theta\\_1 x\\_1 + \\theta\\_2 x\\_2 +.. .)}}{1 + e^{(\\theta\\_0 + \\theta\\_1 x\\_1 + \\theta\\_2 x\\_2 +\\cdots)}}\n",
        "$$\n",
        "Ou:\n",
        "$$\n",
        "ProbabilitéOfaClass\\_1 = P(Y=1|X) = \\sigma({\\theta^TX}) = \\frac{e^{\\theta^TX}}{1+e^{\\theta^TX}}\n",
        "$$\n",
        "\n",
        "Dans cette équation, ${\\theta^TX}$ est le résultat de la régression (la somme des variables pondérées par les coefficients), `exp` est la fonction exponentielle et $\\sigma(\\theta^TX)$ est la sigmoïde ou [fonction logistique](http://en.wikipedia.org/wiki/Logistic_function?utm_medium=Exinfluencer&utm_source=Exinfluencer&utm_content=000026UJ&utm_term=10006555&utm_id=NA-SkillsNetwork-Channel-SkillsNetworkCoursesIBMDeveloperSkillsNetworkML0101ENSkillsNetwork207185 38-2021-01-01), également appelée courbe logistique. Il s'agit d'une forme courante en « S » (courbe sigmoïde).\n",
        "\n",
        "Donc, brièvement, la régression logistique transmet l'entrée via la logistique/sigmoïde mais traite ensuite le résultat comme une probabilité :\n",
        "\n",
        "<img src=\"https://cf-courses-data.s3.us.cloud-object-storage.appdomain.cloud/IBMDeveloperSkillsNetwork-ML0101EN-SkillsNetwork/labs/Module%203/images/mod_ID_24_final.png\" width=\" 400\" align=\"centre\">\n",
        "\n",
        "L'objectif de l'algorithme de **Régression Logistique**, est de trouver les meilleurs paramètres θ, pour $ℎ\\_\\theta(𝑥)$ = $\\sigma({\\theta^TX})$, de telle sorte que le modèle prédit le mieux la classe de chaque cas."
      ],
      "metadata": {
        "id": "UqqFbOTeteeW"
      }
    },
    {
      "cell_type": "markdown",
      "source": [
        "### Désabonnement des clients avec la régression logistique\n",
        "\n",
        "Une entreprise de télécommunications s'inquiète du nombre de clients qui abandonnent leur activité de téléphonie fixe au profit de concurrents du câble. Ils doivent comprendre qui part. Imaginez que vous êtes analyste dans cette entreprise et que vous devez découvrir qui part et pourquoi."
      ],
      "metadata": {
        "id": "HDS9Zvx1vEgP"
      }
    },
    {
      "cell_type": "markdown",
      "source": [
        "### Importons les packages et les bibliotheques dont on aura besoin pour ce projet"
      ],
      "metadata": {
        "id": "eYamsxZ-vU9t"
      }
    },
    {
      "cell_type": "code",
      "execution_count": 1,
      "metadata": {
        "id": "ySQii2ulkUSs"
      },
      "outputs": [],
      "source": [
        "import pandas as pd\n",
        "import pylab as pl\n",
        "import numpy as np\n",
        "import scipy.optimize as opt\n",
        "from sklearn import preprocessing\n",
        "%matplotlib inline\n",
        "import matplotlib.pyplot as plt"
      ]
    },
    {
      "cell_type": "markdown",
      "source": [
        "<h2 id=\"about_dataset\">À propos de l'ensemble de données</h2>\n",
        "Nous utiliserons un ensemble de données de télécommunications pour prédire le taux de désabonnement des clients. Il s'agit d'un ensemble de données clients historiques où chaque ligne représente un client. Les données sont relativement faciles à comprendre et vous pouvez découvrir des informations que vous pouvez utiliser immédiatement. Il est généralement moins coûteux de conserver des clients que d’en acquérir de nouveaux. Cette analyse se concentre donc sur la prévision des clients qui resteront dans l’entreprise.\n",
        "\n",
        "Cet ensemble de données fournit des informations pour vous aider à prédire quel comportement vous aidera à fidéliser vos clients. Vous pouvez analyser toutes les données clients pertinentes et développer des programmes ciblés de fidélisation de la clientèle.\n",
        "\n",
        "L'ensemble de données comprend des informations sur :\n",
        "\n",
        "* Clients partis au cours du mois dernier – la colonne s'appelle Churn\n",
        "* Services auxquels chaque client s'est inscrit : téléphone, lignes multiples, Internet, sécurité en ligne, sauvegarde en ligne, protection des appareils, assistance technique et streaming TV et films\n",
        "* Informations sur le compte client : depuis combien de temps il est client, contrat, mode de paiement, facturation dématérialisée, frais mensuels et frais totaux\n",
        "* Informations démographiques sur les clients : sexe, tranche d'âge et s'ils ont des partenaires et des personnes à charge"
      ],
      "metadata": {
        "id": "6YucZ-_o0602"
      }
    },
    {
      "cell_type": "code",
      "source": [
        "# lien de la base des données\n",
        "url= \"https://cf-courses-data.s3.us.cloud-object-storage.appdomain.cloud/IBMDeveloperSkillsNetwork-ML0101EN-SkillsNetwork/labs/Module%203/data/ChurnData.csv\""
      ],
      "metadata": {
        "id": "Opz3C8nj1G3W"
      },
      "execution_count": 2,
      "outputs": []
    },
    {
      "cell_type": "code",
      "source": [
        "churn_df = pd.read_csv(url)\n",
        "churn_df.head()"
      ],
      "metadata": {
        "colab": {
          "base_uri": "https://localhost:8080/",
          "height": 255
        },
        "id": "CfpuyOfy1Rxc",
        "outputId": "060b91f2-228f-4d82-fb9e-01cb5051b5d3"
      },
      "execution_count": 3,
      "outputs": [
        {
          "output_type": "execute_result",
          "data": {
            "text/plain": [
              "   tenure   age  address  income   ed  employ  equip  callcard  wireless  \\\n",
              "0    11.0  33.0      7.0   136.0  5.0     5.0    0.0       1.0       1.0   \n",
              "1    33.0  33.0     12.0    33.0  2.0     0.0    0.0       0.0       0.0   \n",
              "2    23.0  30.0      9.0    30.0  1.0     2.0    0.0       0.0       0.0   \n",
              "3    38.0  35.0      5.0    76.0  2.0    10.0    1.0       1.0       1.0   \n",
              "4     7.0  35.0     14.0    80.0  2.0    15.0    0.0       1.0       0.0   \n",
              "\n",
              "   longmon  ...  pager  internet  callwait  confer  ebill  loglong  logtoll  \\\n",
              "0     4.40  ...    1.0       0.0       1.0     1.0    0.0    1.482    3.033   \n",
              "1     9.45  ...    0.0       0.0       0.0     0.0    0.0    2.246    3.240   \n",
              "2     6.30  ...    0.0       0.0       0.0     1.0    0.0    1.841    3.240   \n",
              "3     6.05  ...    1.0       1.0       1.0     1.0    1.0    1.800    3.807   \n",
              "4     7.10  ...    0.0       0.0       1.0     1.0    0.0    1.960    3.091   \n",
              "\n",
              "   lninc  custcat  churn  \n",
              "0  4.913      4.0    1.0  \n",
              "1  3.497      1.0    1.0  \n",
              "2  3.401      3.0    0.0  \n",
              "3  4.331      4.0    0.0  \n",
              "4  4.382      3.0    0.0  \n",
              "\n",
              "[5 rows x 28 columns]"
            ],
            "text/html": [
              "\n",
              "  <div id=\"df-e7c633b1-7d8a-44aa-97bd-81ba6a084200\" class=\"colab-df-container\">\n",
              "    <div>\n",
              "<style scoped>\n",
              "    .dataframe tbody tr th:only-of-type {\n",
              "        vertical-align: middle;\n",
              "    }\n",
              "\n",
              "    .dataframe tbody tr th {\n",
              "        vertical-align: top;\n",
              "    }\n",
              "\n",
              "    .dataframe thead th {\n",
              "        text-align: right;\n",
              "    }\n",
              "</style>\n",
              "<table border=\"1\" class=\"dataframe\">\n",
              "  <thead>\n",
              "    <tr style=\"text-align: right;\">\n",
              "      <th></th>\n",
              "      <th>tenure</th>\n",
              "      <th>age</th>\n",
              "      <th>address</th>\n",
              "      <th>income</th>\n",
              "      <th>ed</th>\n",
              "      <th>employ</th>\n",
              "      <th>equip</th>\n",
              "      <th>callcard</th>\n",
              "      <th>wireless</th>\n",
              "      <th>longmon</th>\n",
              "      <th>...</th>\n",
              "      <th>pager</th>\n",
              "      <th>internet</th>\n",
              "      <th>callwait</th>\n",
              "      <th>confer</th>\n",
              "      <th>ebill</th>\n",
              "      <th>loglong</th>\n",
              "      <th>logtoll</th>\n",
              "      <th>lninc</th>\n",
              "      <th>custcat</th>\n",
              "      <th>churn</th>\n",
              "    </tr>\n",
              "  </thead>\n",
              "  <tbody>\n",
              "    <tr>\n",
              "      <th>0</th>\n",
              "      <td>11.0</td>\n",
              "      <td>33.0</td>\n",
              "      <td>7.0</td>\n",
              "      <td>136.0</td>\n",
              "      <td>5.0</td>\n",
              "      <td>5.0</td>\n",
              "      <td>0.0</td>\n",
              "      <td>1.0</td>\n",
              "      <td>1.0</td>\n",
              "      <td>4.40</td>\n",
              "      <td>...</td>\n",
              "      <td>1.0</td>\n",
              "      <td>0.0</td>\n",
              "      <td>1.0</td>\n",
              "      <td>1.0</td>\n",
              "      <td>0.0</td>\n",
              "      <td>1.482</td>\n",
              "      <td>3.033</td>\n",
              "      <td>4.913</td>\n",
              "      <td>4.0</td>\n",
              "      <td>1.0</td>\n",
              "    </tr>\n",
              "    <tr>\n",
              "      <th>1</th>\n",
              "      <td>33.0</td>\n",
              "      <td>33.0</td>\n",
              "      <td>12.0</td>\n",
              "      <td>33.0</td>\n",
              "      <td>2.0</td>\n",
              "      <td>0.0</td>\n",
              "      <td>0.0</td>\n",
              "      <td>0.0</td>\n",
              "      <td>0.0</td>\n",
              "      <td>9.45</td>\n",
              "      <td>...</td>\n",
              "      <td>0.0</td>\n",
              "      <td>0.0</td>\n",
              "      <td>0.0</td>\n",
              "      <td>0.0</td>\n",
              "      <td>0.0</td>\n",
              "      <td>2.246</td>\n",
              "      <td>3.240</td>\n",
              "      <td>3.497</td>\n",
              "      <td>1.0</td>\n",
              "      <td>1.0</td>\n",
              "    </tr>\n",
              "    <tr>\n",
              "      <th>2</th>\n",
              "      <td>23.0</td>\n",
              "      <td>30.0</td>\n",
              "      <td>9.0</td>\n",
              "      <td>30.0</td>\n",
              "      <td>1.0</td>\n",
              "      <td>2.0</td>\n",
              "      <td>0.0</td>\n",
              "      <td>0.0</td>\n",
              "      <td>0.0</td>\n",
              "      <td>6.30</td>\n",
              "      <td>...</td>\n",
              "      <td>0.0</td>\n",
              "      <td>0.0</td>\n",
              "      <td>0.0</td>\n",
              "      <td>1.0</td>\n",
              "      <td>0.0</td>\n",
              "      <td>1.841</td>\n",
              "      <td>3.240</td>\n",
              "      <td>3.401</td>\n",
              "      <td>3.0</td>\n",
              "      <td>0.0</td>\n",
              "    </tr>\n",
              "    <tr>\n",
              "      <th>3</th>\n",
              "      <td>38.0</td>\n",
              "      <td>35.0</td>\n",
              "      <td>5.0</td>\n",
              "      <td>76.0</td>\n",
              "      <td>2.0</td>\n",
              "      <td>10.0</td>\n",
              "      <td>1.0</td>\n",
              "      <td>1.0</td>\n",
              "      <td>1.0</td>\n",
              "      <td>6.05</td>\n",
              "      <td>...</td>\n",
              "      <td>1.0</td>\n",
              "      <td>1.0</td>\n",
              "      <td>1.0</td>\n",
              "      <td>1.0</td>\n",
              "      <td>1.0</td>\n",
              "      <td>1.800</td>\n",
              "      <td>3.807</td>\n",
              "      <td>4.331</td>\n",
              "      <td>4.0</td>\n",
              "      <td>0.0</td>\n",
              "    </tr>\n",
              "    <tr>\n",
              "      <th>4</th>\n",
              "      <td>7.0</td>\n",
              "      <td>35.0</td>\n",
              "      <td>14.0</td>\n",
              "      <td>80.0</td>\n",
              "      <td>2.0</td>\n",
              "      <td>15.0</td>\n",
              "      <td>0.0</td>\n",
              "      <td>1.0</td>\n",
              "      <td>0.0</td>\n",
              "      <td>7.10</td>\n",
              "      <td>...</td>\n",
              "      <td>0.0</td>\n",
              "      <td>0.0</td>\n",
              "      <td>1.0</td>\n",
              "      <td>1.0</td>\n",
              "      <td>0.0</td>\n",
              "      <td>1.960</td>\n",
              "      <td>3.091</td>\n",
              "      <td>4.382</td>\n",
              "      <td>3.0</td>\n",
              "      <td>0.0</td>\n",
              "    </tr>\n",
              "  </tbody>\n",
              "</table>\n",
              "<p>5 rows × 28 columns</p>\n",
              "</div>\n",
              "    <div class=\"colab-df-buttons\">\n",
              "\n",
              "  <div class=\"colab-df-container\">\n",
              "    <button class=\"colab-df-convert\" onclick=\"convertToInteractive('df-e7c633b1-7d8a-44aa-97bd-81ba6a084200')\"\n",
              "            title=\"Convert this dataframe to an interactive table.\"\n",
              "            style=\"display:none;\">\n",
              "\n",
              "  <svg xmlns=\"http://www.w3.org/2000/svg\" height=\"24px\" viewBox=\"0 -960 960 960\">\n",
              "    <path d=\"M120-120v-720h720v720H120Zm60-500h600v-160H180v160Zm220 220h160v-160H400v160Zm0 220h160v-160H400v160ZM180-400h160v-160H180v160Zm440 0h160v-160H620v160ZM180-180h160v-160H180v160Zm440 0h160v-160H620v160Z\"/>\n",
              "  </svg>\n",
              "    </button>\n",
              "\n",
              "  <style>\n",
              "    .colab-df-container {\n",
              "      display:flex;\n",
              "      gap: 12px;\n",
              "    }\n",
              "\n",
              "    .colab-df-convert {\n",
              "      background-color: #E8F0FE;\n",
              "      border: none;\n",
              "      border-radius: 50%;\n",
              "      cursor: pointer;\n",
              "      display: none;\n",
              "      fill: #1967D2;\n",
              "      height: 32px;\n",
              "      padding: 0 0 0 0;\n",
              "      width: 32px;\n",
              "    }\n",
              "\n",
              "    .colab-df-convert:hover {\n",
              "      background-color: #E2EBFA;\n",
              "      box-shadow: 0px 1px 2px rgba(60, 64, 67, 0.3), 0px 1px 3px 1px rgba(60, 64, 67, 0.15);\n",
              "      fill: #174EA6;\n",
              "    }\n",
              "\n",
              "    .colab-df-buttons div {\n",
              "      margin-bottom: 4px;\n",
              "    }\n",
              "\n",
              "    [theme=dark] .colab-df-convert {\n",
              "      background-color: #3B4455;\n",
              "      fill: #D2E3FC;\n",
              "    }\n",
              "\n",
              "    [theme=dark] .colab-df-convert:hover {\n",
              "      background-color: #434B5C;\n",
              "      box-shadow: 0px 1px 3px 1px rgba(0, 0, 0, 0.15);\n",
              "      filter: drop-shadow(0px 1px 2px rgba(0, 0, 0, 0.3));\n",
              "      fill: #FFFFFF;\n",
              "    }\n",
              "  </style>\n",
              "\n",
              "    <script>\n",
              "      const buttonEl =\n",
              "        document.querySelector('#df-e7c633b1-7d8a-44aa-97bd-81ba6a084200 button.colab-df-convert');\n",
              "      buttonEl.style.display =\n",
              "        google.colab.kernel.accessAllowed ? 'block' : 'none';\n",
              "\n",
              "      async function convertToInteractive(key) {\n",
              "        const element = document.querySelector('#df-e7c633b1-7d8a-44aa-97bd-81ba6a084200');\n",
              "        const dataTable =\n",
              "          await google.colab.kernel.invokeFunction('convertToInteractive',\n",
              "                                                    [key], {});\n",
              "        if (!dataTable) return;\n",
              "\n",
              "        const docLinkHtml = 'Like what you see? Visit the ' +\n",
              "          '<a target=\"_blank\" href=https://colab.research.google.com/notebooks/data_table.ipynb>data table notebook</a>'\n",
              "          + ' to learn more about interactive tables.';\n",
              "        element.innerHTML = '';\n",
              "        dataTable['output_type'] = 'display_data';\n",
              "        await google.colab.output.renderOutput(dataTable, element);\n",
              "        const docLink = document.createElement('div');\n",
              "        docLink.innerHTML = docLinkHtml;\n",
              "        element.appendChild(docLink);\n",
              "      }\n",
              "    </script>\n",
              "  </div>\n",
              "\n",
              "\n",
              "<div id=\"df-16933994-5cf7-4edb-a481-4190a64f534d\">\n",
              "  <button class=\"colab-df-quickchart\" onclick=\"quickchart('df-16933994-5cf7-4edb-a481-4190a64f534d')\"\n",
              "            title=\"Suggest charts.\"\n",
              "            style=\"display:none;\">\n",
              "\n",
              "<svg xmlns=\"http://www.w3.org/2000/svg\" height=\"24px\"viewBox=\"0 0 24 24\"\n",
              "     width=\"24px\">\n",
              "    <g>\n",
              "        <path d=\"M19 3H5c-1.1 0-2 .9-2 2v14c0 1.1.9 2 2 2h14c1.1 0 2-.9 2-2V5c0-1.1-.9-2-2-2zM9 17H7v-7h2v7zm4 0h-2V7h2v10zm4 0h-2v-4h2v4z\"/>\n",
              "    </g>\n",
              "</svg>\n",
              "  </button>\n",
              "\n",
              "<style>\n",
              "  .colab-df-quickchart {\n",
              "      --bg-color: #E8F0FE;\n",
              "      --fill-color: #1967D2;\n",
              "      --hover-bg-color: #E2EBFA;\n",
              "      --hover-fill-color: #174EA6;\n",
              "      --disabled-fill-color: #AAA;\n",
              "      --disabled-bg-color: #DDD;\n",
              "  }\n",
              "\n",
              "  [theme=dark] .colab-df-quickchart {\n",
              "      --bg-color: #3B4455;\n",
              "      --fill-color: #D2E3FC;\n",
              "      --hover-bg-color: #434B5C;\n",
              "      --hover-fill-color: #FFFFFF;\n",
              "      --disabled-bg-color: #3B4455;\n",
              "      --disabled-fill-color: #666;\n",
              "  }\n",
              "\n",
              "  .colab-df-quickchart {\n",
              "    background-color: var(--bg-color);\n",
              "    border: none;\n",
              "    border-radius: 50%;\n",
              "    cursor: pointer;\n",
              "    display: none;\n",
              "    fill: var(--fill-color);\n",
              "    height: 32px;\n",
              "    padding: 0;\n",
              "    width: 32px;\n",
              "  }\n",
              "\n",
              "  .colab-df-quickchart:hover {\n",
              "    background-color: var(--hover-bg-color);\n",
              "    box-shadow: 0 1px 2px rgba(60, 64, 67, 0.3), 0 1px 3px 1px rgba(60, 64, 67, 0.15);\n",
              "    fill: var(--button-hover-fill-color);\n",
              "  }\n",
              "\n",
              "  .colab-df-quickchart-complete:disabled,\n",
              "  .colab-df-quickchart-complete:disabled:hover {\n",
              "    background-color: var(--disabled-bg-color);\n",
              "    fill: var(--disabled-fill-color);\n",
              "    box-shadow: none;\n",
              "  }\n",
              "\n",
              "  .colab-df-spinner {\n",
              "    border: 2px solid var(--fill-color);\n",
              "    border-color: transparent;\n",
              "    border-bottom-color: var(--fill-color);\n",
              "    animation:\n",
              "      spin 1s steps(1) infinite;\n",
              "  }\n",
              "\n",
              "  @keyframes spin {\n",
              "    0% {\n",
              "      border-color: transparent;\n",
              "      border-bottom-color: var(--fill-color);\n",
              "      border-left-color: var(--fill-color);\n",
              "    }\n",
              "    20% {\n",
              "      border-color: transparent;\n",
              "      border-left-color: var(--fill-color);\n",
              "      border-top-color: var(--fill-color);\n",
              "    }\n",
              "    30% {\n",
              "      border-color: transparent;\n",
              "      border-left-color: var(--fill-color);\n",
              "      border-top-color: var(--fill-color);\n",
              "      border-right-color: var(--fill-color);\n",
              "    }\n",
              "    40% {\n",
              "      border-color: transparent;\n",
              "      border-right-color: var(--fill-color);\n",
              "      border-top-color: var(--fill-color);\n",
              "    }\n",
              "    60% {\n",
              "      border-color: transparent;\n",
              "      border-right-color: var(--fill-color);\n",
              "    }\n",
              "    80% {\n",
              "      border-color: transparent;\n",
              "      border-right-color: var(--fill-color);\n",
              "      border-bottom-color: var(--fill-color);\n",
              "    }\n",
              "    90% {\n",
              "      border-color: transparent;\n",
              "      border-bottom-color: var(--fill-color);\n",
              "    }\n",
              "  }\n",
              "</style>\n",
              "\n",
              "  <script>\n",
              "    async function quickchart(key) {\n",
              "      const quickchartButtonEl =\n",
              "        document.querySelector('#' + key + ' button');\n",
              "      quickchartButtonEl.disabled = true;  // To prevent multiple clicks.\n",
              "      quickchartButtonEl.classList.add('colab-df-spinner');\n",
              "      try {\n",
              "        const charts = await google.colab.kernel.invokeFunction(\n",
              "            'suggestCharts', [key], {});\n",
              "      } catch (error) {\n",
              "        console.error('Error during call to suggestCharts:', error);\n",
              "      }\n",
              "      quickchartButtonEl.classList.remove('colab-df-spinner');\n",
              "      quickchartButtonEl.classList.add('colab-df-quickchart-complete');\n",
              "    }\n",
              "    (() => {\n",
              "      let quickchartButtonEl =\n",
              "        document.querySelector('#df-16933994-5cf7-4edb-a481-4190a64f534d button');\n",
              "      quickchartButtonEl.style.display =\n",
              "        google.colab.kernel.accessAllowed ? 'block' : 'none';\n",
              "    })();\n",
              "  </script>\n",
              "</div>\n",
              "    </div>\n",
              "  </div>\n"
            ]
          },
          "metadata": {},
          "execution_count": 3
        }
      ]
    },
    {
      "cell_type": "code",
      "source": [
        "churn_df.shape"
      ],
      "metadata": {
        "colab": {
          "base_uri": "https://localhost:8080/"
        },
        "id": "Qb-MXOkh1qMn",
        "outputId": "d484c58a-f627-454d-9bd2-2c0fe475fc1a"
      },
      "execution_count": 4,
      "outputs": [
        {
          "output_type": "execute_result",
          "data": {
            "text/plain": [
              "(200, 28)"
            ]
          },
          "metadata": {},
          "execution_count": 4
        }
      ]
    },
    {
      "cell_type": "code",
      "source": [
        "churn_df['churn'].value_counts()"
      ],
      "metadata": {
        "colab": {
          "base_uri": "https://localhost:8080/"
        },
        "id": "q7__n-632AwT",
        "outputId": "d5691d1d-f9ae-4fff-f648-59c706d66cec"
      },
      "execution_count": 5,
      "outputs": [
        {
          "output_type": "execute_result",
          "data": {
            "text/plain": [
              "0.0    142\n",
              "1.0     58\n",
              "Name: churn, dtype: int64"
            ]
          },
          "metadata": {},
          "execution_count": 5
        }
      ]
    },
    {
      "cell_type": "markdown",
      "source": [
        "## Explorons les données par une visualisation rapide"
      ],
      "metadata": {
        "id": "ihB0MJHO12zb"
      }
    },
    {
      "cell_type": "code",
      "source": [
        "churn_df.hist(bins=50, sharex= False, sharey = True, figsize=(14, 14))"
      ],
      "metadata": {
        "colab": {
          "base_uri": "https://localhost:8080/",
          "height": 1000
        },
        "id": "BWcQGoTE2QaH",
        "outputId": "31b5d982-af7a-4268-fdf9-fccefaeff2e7"
      },
      "execution_count": 6,
      "outputs": [
        {
          "output_type": "execute_result",
          "data": {
            "text/plain": [
              "array([[<Axes: title={'center': 'tenure'}>,\n",
              "        <Axes: title={'center': 'age'}>,\n",
              "        <Axes: title={'center': 'address'}>,\n",
              "        <Axes: title={'center': 'income'}>,\n",
              "        <Axes: title={'center': 'ed'}>],\n",
              "       [<Axes: title={'center': 'employ'}>,\n",
              "        <Axes: title={'center': 'equip'}>,\n",
              "        <Axes: title={'center': 'callcard'}>,\n",
              "        <Axes: title={'center': 'wireless'}>,\n",
              "        <Axes: title={'center': 'longmon'}>],\n",
              "       [<Axes: title={'center': 'tollmon'}>,\n",
              "        <Axes: title={'center': 'equipmon'}>,\n",
              "        <Axes: title={'center': 'cardmon'}>,\n",
              "        <Axes: title={'center': 'wiremon'}>,\n",
              "        <Axes: title={'center': 'longten'}>],\n",
              "       [<Axes: title={'center': 'tollten'}>,\n",
              "        <Axes: title={'center': 'cardten'}>,\n",
              "        <Axes: title={'center': 'voice'}>,\n",
              "        <Axes: title={'center': 'pager'}>,\n",
              "        <Axes: title={'center': 'internet'}>],\n",
              "       [<Axes: title={'center': 'callwait'}>,\n",
              "        <Axes: title={'center': 'confer'}>,\n",
              "        <Axes: title={'center': 'ebill'}>,\n",
              "        <Axes: title={'center': 'loglong'}>,\n",
              "        <Axes: title={'center': 'logtoll'}>],\n",
              "       [<Axes: title={'center': 'lninc'}>,\n",
              "        <Axes: title={'center': 'custcat'}>,\n",
              "        <Axes: title={'center': 'churn'}>, <Axes: >, <Axes: >]],\n",
              "      dtype=object)"
            ]
          },
          "metadata": {},
          "execution_count": 6
        },
        {
          "output_type": "display_data",
          "data": {
            "text/plain": [
              "<Figure size 1400x1400 with 30 Axes>"
            ],
            "image/png": "[encoded data removed]"
          },
          "metadata": {}
        }
      ]
    },
    {
      "cell_type": "markdown",
      "source": [
        "Nous pouvons travailler sur les données pour plus d'informations mais allons à la préparation des données de modèlisation en données de test et d'entrainement."
      ],
      "metadata": {
        "id": "HgmS2ULE22PH"
      }
    },
    {
      "cell_type": "markdown",
      "source": [
        "Définissons les données x et y"
      ],
      "metadata": {
        "id": "d88Phkzt4Bnn"
      }
    },
    {
      "cell_type": "code",
      "source": [
        "# Mon x\n",
        "x = np.asarray(churn_df[['tenure', 'age', 'address', 'income', 'ed', 'employ', 'equip']])\n",
        "x[0:9]"
      ],
      "metadata": {
        "colab": {
          "base_uri": "https://localhost:8080/"
        },
        "id": "tSwPpBNN4E5M",
        "outputId": "1fd3afd1-9d15-4b9a-9f38-22b6b0cc51a6"
      },
      "execution_count": 7,
      "outputs": [
        {
          "output_type": "execute_result",
          "data": {
            "text/plain": [
              "array([[ 11.,  33.,   7., 136.,   5.,   5.,   0.],\n",
              "       [ 33.,  33.,  12.,  33.,   2.,   0.,   0.],\n",
              "       [ 23.,  30.,   9.,  30.,   1.,   2.,   0.],\n",
              "       [ 38.,  35.,   5.,  76.,   2.,  10.,   1.],\n",
              "       [  7.,  35.,  14.,  80.,   2.,  15.,   0.],\n",
              "       [ 68.,  52.,  17., 120.,   1.,  24.,   0.],\n",
              "       [ 42.,  40.,   7.,  37.,   2.,   8.,   1.],\n",
              "       [  9.,  21.,   1.,  17.,   2.,   2.,   0.],\n",
              "       [ 35.,  50.,  26., 140.,   2.,  21.,   0.]])"
            ]
          },
          "metadata": {},
          "execution_count": 7
        }
      ]
    },
    {
      "cell_type": "code",
      "source": [
        "# Mon y\n",
        "y = np.asarray(churn_df[['churn']])\n",
        "y[0:9]"
      ],
      "metadata": {
        "colab": {
          "base_uri": "https://localhost:8080/"
        },
        "id": "PD7lVyE14Wh8",
        "outputId": "a3025237-b290-40e0-8888-1e46b574ecfc"
      },
      "execution_count": 9,
      "outputs": [
        {
          "output_type": "execute_result",
          "data": {
            "text/plain": [
              "array([[1.],\n",
              "       [1.],\n",
              "       [0.],\n",
              "       [0.],\n",
              "       [0.],\n",
              "       [0.],\n",
              "       [0.],\n",
              "       [0.],\n",
              "       [0.]])"
            ]
          },
          "metadata": {},
          "execution_count": 9
        }
      ]
    },
    {
      "cell_type": "markdown",
      "source": [
        "D'abord, nous normalisons l'ensemble de données :"
      ],
      "metadata": {
        "id": "Khzi1P0k3KzN"
      }
    },
    {
      "cell_type": "code",
      "source": [
        "from sklearn import preprocessing\n",
        "x= preprocessing.StandardScaler().fit(x).transform(x)\n",
        "x[0:10]"
      ],
      "metadata": {
        "colab": {
          "base_uri": "https://localhost:8080/"
        },
        "id": "3ARzucYg3RJZ",
        "outputId": "c02cba3f-dc01-415b-bffe-a689da83ad21"
      },
      "execution_count": 10,
      "outputs": [
        {
          "output_type": "execute_result",
          "data": {
            "text/plain": [
              "array([[-1.13518441, -0.62595491, -0.4588971 ,  0.4751423 ,  1.6961288 ,\n",
              "        -0.58477841, -0.85972695],\n",
              "       [-0.11604313, -0.62595491,  0.03454064, -0.32886061, -0.6433592 ,\n",
              "        -1.14437497, -0.85972695],\n",
              "       [-0.57928917, -0.85594447, -0.261522  , -0.35227817, -1.42318853,\n",
              "        -0.92053635, -0.85972695],\n",
              "       [ 0.11557989, -0.47262854, -0.65627219,  0.00679109, -0.6433592 ,\n",
              "        -0.02518185,  1.16316   ],\n",
              "       [-1.32048283, -0.47262854,  0.23191574,  0.03801451, -0.6433592 ,\n",
              "         0.53441472, -0.85972695],\n",
              "       [ 1.505318  ,  0.83064562,  0.52797838,  0.35024865, -1.42318853,\n",
              "         1.54168853, -0.85972695],\n",
              "       [ 0.3008783 , -0.08931261, -0.4588971 , -0.29763719, -0.6433592 ,\n",
              "        -0.24902047,  1.16316   ],\n",
              "       [-1.22783362, -1.54591314, -1.05102238, -0.45375426, -0.6433592 ,\n",
              "        -0.92053635, -0.85972695],\n",
              "       [-0.02339392,  0.67731925,  1.41616631,  0.50636572, -0.6433592 ,\n",
              "         1.2059306 , -0.85972695],\n",
              "       [ 0.62515053,  0.75398243,  1.51485386, -0.094685  ,  0.91629947,\n",
              "         0.98209197, -0.85972695]])"
            ]
          },
          "metadata": {},
          "execution_count": 10
        }
      ]
    },
    {
      "cell_type": "markdown",
      "source": [
        "## Les données d'entrainement et de test"
      ],
      "metadata": {
        "id": "ke0JCZcz3Hzp"
      }
    },
    {
      "cell_type": "code",
      "source": [
        "from sklearn.model_selection import train_test_split\n",
        "x_train, x_test, y_train, y_test = train_test_split(x, y, test_size=0.2, random_state=4)\n",
        "print(\"La dimention des données d'entrainement est :\", x_train.shape, \"pour les x et pour le y c'est : \", y_train.shape)\n",
        "print(\"La dimention des données de test est :\", x_test.shape, \"pour les x et pour le y c'est : \", y_test.shape)\n"
      ],
      "metadata": {
        "colab": {
          "base_uri": "https://localhost:8080/"
        },
        "id": "073Hebh15AAK",
        "outputId": "a0179b6e-3bb8-447e-c6a6-16c80f25dc84"
      },
      "execution_count": 11,
      "outputs": [
        {
          "output_type": "stream",
          "name": "stdout",
          "text": [
            "La dimention des données d'entrainement est : (160, 7) pour les x et pour le y c'est :  (160, 1)\n",
            "La dimention des données de test est : (40, 7) pour les x et pour le y c'est :  (40, 1)\n"
          ]
        }
      ]
    },
    {
      "cell_type": "markdown",
      "source": [
        "### Modèlisation Logistique\n",
        "\n",
        "\n",
        "Construisons notre modèle en utilisant **LogisticRegression** du package Scikit-learn. Cette fonction implémente la régression logistique et peut utiliser différents optimiseurs numériques pour trouver des paramètres, notamment les solveurs « newton-cg », « lbfgs », « liblinear », « sag », « saga ». Vous pouvez trouver des informations détaillées sur les avantages et les inconvénients de ces optimiseurs si vous effectuez une recherche sur Internet.\n",
        "\n",
        "La version de Logistic Regression dans Scikit-learn prend en charge la régularisation. La régularisation est une technique utilisée pour résoudre le problème de surajustement des modèles d'apprentissage automatique.\n",
        "Le paramètre **C** indique **l'inverse de la force de régularisation** qui doit être un float positif. Des valeurs plus petites indiquent une régularisation plus forte.\n",
        "Adaptons maintenant notre modèle à la rame :"
      ],
      "metadata": {
        "id": "fLP_yt3w6SPt"
      }
    },
    {
      "cell_type": "code",
      "source": [
        "from sklearn.linear_model import LogisticRegression\n",
        "from sklearn.metrics import confusion_matrix\n",
        "LR = LogisticRegression(C=0.01, solver ='liblinear').fit(x_train, y_train)"
      ],
      "metadata": {
        "colab": {
          "base_uri": "https://localhost:8080/"
        },
        "id": "Mq9kYtF-rNJ5",
        "outputId": "1fe048e3-4b32-40ca-a4bc-e2ac82847740"
      },
      "execution_count": 17,
      "outputs": [
        {
          "output_type": "stream",
          "name": "stderr",
          "text": [
            "/usr/local/lib/python3.10/dist-packages/sklearn/utils/validation.py:1143: DataConversionWarning: A column-vector y was passed when a 1d array was expected. Please change the shape of y to (n_samples, ), for example using ravel().\n",
            "  y = column_or_1d(y, warn=True)\n"
          ]
        }
      ]
    },
    {
      "cell_type": "markdown",
      "source": [
        "Maintenant on ppeut prédire nos données de test"
      ],
      "metadata": {
        "id": "-H7mnOKEsU8G"
      }
    },
    {
      "cell_type": "code",
      "source": [
        "# La prediction\n",
        "yhat = LR.predict(x_test)\n",
        "yhat"
      ],
      "metadata": {
        "colab": {
          "base_uri": "https://localhost:8080/"
        },
        "id": "ZSk2zsAHsCtU",
        "outputId": "cb7d7296-3704-4ddd-a99b-9c826c96c8c2"
      },
      "execution_count": 19,
      "outputs": [
        {
          "output_type": "execute_result",
          "data": {
            "text/plain": [
              "array([0., 0., 0., 0., 0., 0., 0., 0., 1., 0., 0., 0., 1., 1., 0., 0., 0.,\n",
              "       1., 1., 0., 0., 0., 0., 0., 0., 0., 0., 0., 0., 0., 0., 0., 1., 0.,\n",
              "       0., 0., 1., 0., 0., 0.])"
            ]
          },
          "metadata": {},
          "execution_count": 19
        }
      ]
    },
    {
      "cell_type": "markdown",
      "source": [
        "**predict_proba** renvoie des estimations pour toutes les classes, classées par étiquette de classe. Ainsi, la première colonne est la probabilité de classe 0, P(Y=0|X), et la deuxième colonne est la probabilité de classe 1, P(Y=1|X) :"
      ],
      "metadata": {
        "id": "Mi0XwHQHsnpT"
      }
    },
    {
      "cell_type": "code",
      "source": [
        "from pandas.core.frame import DataFrame\n",
        "yhat_prob =LR.predict_proba(x_test)\n",
        "yhat_prob"
      ],
      "metadata": {
        "colab": {
          "base_uri": "https://localhost:8080/"
        },
        "id": "HgotlpgAsuN6",
        "outputId": "587ac265-2264-4f49-85cb-652e101faebd"
      },
      "execution_count": 20,
      "outputs": [
        {
          "output_type": "execute_result",
          "data": {
            "text/plain": [
              "array([[0.54132919, 0.45867081],\n",
              "       [0.60593357, 0.39406643],\n",
              "       [0.56277713, 0.43722287],\n",
              "       [0.63432489, 0.36567511],\n",
              "       [0.56431839, 0.43568161],\n",
              "       [0.55386646, 0.44613354],\n",
              "       [0.52237207, 0.47762793],\n",
              "       [0.60514349, 0.39485651],\n",
              "       [0.41069572, 0.58930428],\n",
              "       [0.6333873 , 0.3666127 ],\n",
              "       [0.58068791, 0.41931209],\n",
              "       [0.62768628, 0.37231372],\n",
              "       [0.47559883, 0.52440117],\n",
              "       [0.4267593 , 0.5732407 ],\n",
              "       [0.66172417, 0.33827583],\n",
              "       [0.55092315, 0.44907685],\n",
              "       [0.51749946, 0.48250054],\n",
              "       [0.485743  , 0.514257  ],\n",
              "       [0.49011451, 0.50988549],\n",
              "       [0.52423349, 0.47576651],\n",
              "       [0.61619519, 0.38380481],\n",
              "       [0.52696302, 0.47303698],\n",
              "       [0.63957168, 0.36042832],\n",
              "       [0.52205164, 0.47794836],\n",
              "       [0.50572852, 0.49427148],\n",
              "       [0.70706202, 0.29293798],\n",
              "       [0.55266286, 0.44733714],\n",
              "       [0.52271594, 0.47728406],\n",
              "       [0.51638863, 0.48361137],\n",
              "       [0.71331391, 0.28668609],\n",
              "       [0.67862111, 0.32137889],\n",
              "       [0.50896403, 0.49103597],\n",
              "       [0.42348082, 0.57651918],\n",
              "       [0.71495838, 0.28504162],\n",
              "       [0.59711064, 0.40288936],\n",
              "       [0.63808839, 0.36191161],\n",
              "       [0.39957895, 0.60042105],\n",
              "       [0.52127638, 0.47872362],\n",
              "       [0.65975464, 0.34024536],\n",
              "       [0.5114172 , 0.4885828 ]])"
            ]
          },
          "metadata": {},
          "execution_count": 20
        }
      ]
    },
    {
      "cell_type": "code",
      "source": [
        "yhat_prob_data = {'classe_0':yhat_prob[:,0], 'Classe_1':yhat_prob[:,1]}\n",
        "\n",
        "yhat_prob_data = pd.DataFrame(yhat_prob_data)\n",
        "yhat_prob_data.head()"
      ],
      "metadata": {
        "colab": {
          "base_uri": "https://localhost:8080/",
          "height": 206
        },
        "id": "pZZtLzB9tEp5",
        "outputId": "58de1388-6947-4f89-876c-e17e38f42b3e"
      },
      "execution_count": 30,
      "outputs": [
        {
          "output_type": "execute_result",
          "data": {
            "text/plain": [
              "   classe_0  Classe_1\n",
              "0  0.541329  0.458671\n",
              "1  0.605934  0.394066\n",
              "2  0.562777  0.437223\n",
              "3  0.634325  0.365675\n",
              "4  0.564318  0.435682"
            ],
            "text/html": [
              "\n",
              "  <div id=\"df-4aa240a4-d4d0-4337-91ba-669c509273ea\" class=\"colab-df-container\">\n",
              "    <div>\n",
              "<style scoped>\n",
              "    .dataframe tbody tr th:only-of-type {\n",
              "        vertical-align: middle;\n",
              "    }\n",
              "\n",
              "    .dataframe tbody tr th {\n",
              "        vertical-align: top;\n",
              "    }\n",
              "\n",
              "    .dataframe thead th {\n",
              "        text-align: right;\n",
              "    }\n",
              "</style>\n",
              "<table border=\"1\" class=\"dataframe\">\n",
              "  <thead>\n",
              "    <tr style=\"text-align: right;\">\n",
              "      <th></th>\n",
              "      <th>classe_0</th>\n",
              "      <th>Classe_1</th>\n",
              "    </tr>\n",
              "  </thead>\n",
              "  <tbody>\n",
              "    <tr>\n",
              "      <th>0</th>\n",
              "      <td>0.541329</td>\n",
              "      <td>0.458671</td>\n",
              "    </tr>\n",
              "    <tr>\n",
              "      <th>1</th>\n",
              "      <td>0.605934</td>\n",
              "      <td>0.394066</td>\n",
              "    </tr>\n",
              "    <tr>\n",
              "      <th>2</th>\n",
              "      <td>0.562777</td>\n",
              "      <td>0.437223</td>\n",
              "    </tr>\n",
              "    <tr>\n",
              "      <th>3</th>\n",
              "      <td>0.634325</td>\n",
              "      <td>0.365675</td>\n",
              "    </tr>\n",
              "    <tr>\n",
              "      <th>4</th>\n",
              "      <td>0.564318</td>\n",
              "      <td>0.435682</td>\n",
              "    </tr>\n",
              "  </tbody>\n",
              "</table>\n",
              "</div>\n",
              "    <div class=\"colab-df-buttons\">\n",
              "\n",
              "  <div class=\"colab-df-container\">\n",
              "    <button class=\"colab-df-convert\" onclick=\"convertToInteractive('df-4aa240a4-d4d0-4337-91ba-669c509273ea')\"\n",
              "            title=\"Convert this dataframe to an interactive table.\"\n",
              "            style=\"display:none;\">\n",
              "\n",
              "  <svg xmlns=\"http://www.w3.org/2000/svg\" height=\"24px\" viewBox=\"0 -960 960 960\">\n",
              "    <path d=\"M120-120v-720h720v720H120Zm60-500h600v-160H180v160Zm220 220h160v-160H400v160Zm0 220h160v-160H400v160ZM180-400h160v-160H180v160Zm440 0h160v-160H620v160ZM180-180h160v-160H180v160Zm440 0h160v-160H620v160Z\"/>\n",
              "  </svg>\n",
              "    </button>\n",
              "\n",
              "  <style>\n",
              "    .colab-df-container {\n",
              "      display:flex;\n",
              "      gap: 12px;\n",
              "    }\n",
              "\n",
              "    .colab-df-convert {\n",
              "      background-color: #E8F0FE;\n",
              "      border: none;\n",
              "      border-radius: 50%;\n",
              "      cursor: pointer;\n",
              "      display: none;\n",
              "      fill: #1967D2;\n",
              "      height: 32px;\n",
              "      padding: 0 0 0 0;\n",
              "      width: 32px;\n",
              "    }\n",
              "\n",
              "    .colab-df-convert:hover {\n",
              "      background-color: #E2EBFA;\n",
              "      box-shadow: 0px 1px 2px rgba(60, 64, 67, 0.3), 0px 1px 3px 1px rgba(60, 64, 67, 0.15);\n",
              "      fill: #174EA6;\n",
              "    }\n",
              "\n",
              "    .colab-df-buttons div {\n",
              "      margin-bottom: 4px;\n",
              "    }\n",
              "\n",
              "    [theme=dark] .colab-df-convert {\n",
              "      background-color: #3B4455;\n",
              "      fill: #D2E3FC;\n",
              "    }\n",
              "\n",
              "    [theme=dark] .colab-df-convert:hover {\n",
              "      background-color: #434B5C;\n",
              "      box-shadow: 0px 1px 3px 1px rgba(0, 0, 0, 0.15);\n",
              "      filter: drop-shadow(0px 1px 2px rgba(0, 0, 0, 0.3));\n",
              "      fill: #FFFFFF;\n",
              "    }\n",
              "  </style>\n",
              "\n",
              "    <script>\n",
              "      const buttonEl =\n",
              "        document.querySelector('#df-4aa240a4-d4d0-4337-91ba-669c509273ea button.colab-df-convert');\n",
              "      buttonEl.style.display =\n",
              "        google.colab.kernel.accessAllowed ? 'block' : 'none';\n",
              "\n",
              "      async function convertToInteractive(key) {\n",
              "        const element = document.querySelector('#df-4aa240a4-d4d0-4337-91ba-669c509273ea');\n",
              "        const dataTable =\n",
              "          await google.colab.kernel.invokeFunction('convertToInteractive',\n",
              "                                                    [key], {});\n",
              "        if (!dataTable) return;\n",
              "\n",
              "        const docLinkHtml = 'Like what you see? Visit the ' +\n",
              "          '<a target=\"_blank\" href=https://colab.research.google.com/notebooks/data_table.ipynb>data table notebook</a>'\n",
              "          + ' to learn more about interactive tables.';\n",
              "        element.innerHTML = '';\n",
              "        dataTable['output_type'] = 'display_data';\n",
              "        await google.colab.output.renderOutput(dataTable, element);\n",
              "        const docLink = document.createElement('div');\n",
              "        docLink.innerHTML = docLinkHtml;\n",
              "        element.appendChild(docLink);\n",
              "      }\n",
              "    </script>\n",
              "  </div>\n",
              "\n",
              "\n",
              "<div id=\"df-6b0f14da-9869-447f-bdba-74a8d7e5ccc3\">\n",
              "  <button class=\"colab-df-quickchart\" onclick=\"quickchart('df-6b0f14da-9869-447f-bdba-74a8d7e5ccc3')\"\n",
              "            title=\"Suggest charts.\"\n",
              "            style=\"display:none;\">\n",
              "\n",
              "<svg xmlns=\"http://www.w3.org/2000/svg\" height=\"24px\"viewBox=\"0 0 24 24\"\n",
              "     width=\"24px\">\n",
              "    <g>\n",
              "        <path d=\"M19 3H5c-1.1 0-2 .9-2 2v14c0 1.1.9 2 2 2h14c1.1 0 2-.9 2-2V5c0-1.1-.9-2-2-2zM9 17H7v-7h2v7zm4 0h-2V7h2v10zm4 0h-2v-4h2v4z\"/>\n",
              "    </g>\n",
              "</svg>\n",
              "  </button>\n",
              "\n",
              "<style>\n",
              "  .colab-df-quickchart {\n",
              "      --bg-color: #E8F0FE;\n",
              "      --fill-color: #1967D2;\n",
              "      --hover-bg-color: #E2EBFA;\n",
              "      --hover-fill-color: #174EA6;\n",
              "      --disabled-fill-color: #AAA;\n",
              "      --disabled-bg-color: #DDD;\n",
              "  }\n",
              "\n",
              "  [theme=dark] .colab-df-quickchart {\n",
              "      --bg-color: #3B4455;\n",
              "      --fill-color: #D2E3FC;\n",
              "      --hover-bg-color: #434B5C;\n",
              "      --hover-fill-color: #FFFFFF;\n",
              "      --disabled-bg-color: #3B4455;\n",
              "      --disabled-fill-color: #666;\n",
              "  }\n",
              "\n",
              "  .colab-df-quickchart {\n",
              "    background-color: var(--bg-color);\n",
              "    border: none;\n",
              "    border-radius: 50%;\n",
              "    cursor: pointer;\n",
              "    display: none;\n",
              "    fill: var(--fill-color);\n",
              "    height: 32px;\n",
              "    padding: 0;\n",
              "    width: 32px;\n",
              "  }\n",
              "\n",
              "  .colab-df-quickchart:hover {\n",
              "    background-color: var(--hover-bg-color);\n",
              "    box-shadow: 0 1px 2px rgba(60, 64, 67, 0.3), 0 1px 3px 1px rgba(60, 64, 67, 0.15);\n",
              "    fill: var(--button-hover-fill-color);\n",
              "  }\n",
              "\n",
              "  .colab-df-quickchart-complete:disabled,\n",
              "  .colab-df-quickchart-complete:disabled:hover {\n",
              "    background-color: var(--disabled-bg-color);\n",
              "    fill: var(--disabled-fill-color);\n",
              "    box-shadow: none;\n",
              "  }\n",
              "\n",
              "  .colab-df-spinner {\n",
              "    border: 2px solid var(--fill-color);\n",
              "    border-color: transparent;\n",
              "    border-bottom-color: var(--fill-color);\n",
              "    animation:\n",
              "      spin 1s steps(1) infinite;\n",
              "  }\n",
              "\n",
              "  @keyframes spin {\n",
              "    0% {\n",
              "      border-color: transparent;\n",
              "      border-bottom-color: var(--fill-color);\n",
              "      border-left-color: var(--fill-color);\n",
              "    }\n",
              "    20% {\n",
              "      border-color: transparent;\n",
              "      border-left-color: var(--fill-color);\n",
              "      border-top-color: var(--fill-color);\n",
              "    }\n",
              "    30% {\n",
              "      border-color: transparent;\n",
              "      border-left-color: var(--fill-color);\n",
              "      border-top-color: var(--fill-color);\n",
              "      border-right-color: var(--fill-color);\n",
              "    }\n",
              "    40% {\n",
              "      border-color: transparent;\n",
              "      border-right-color: var(--fill-color);\n",
              "      border-top-color: var(--fill-color);\n",
              "    }\n",
              "    60% {\n",
              "      border-color: transparent;\n",
              "      border-right-color: var(--fill-color);\n",
              "    }\n",
              "    80% {\n",
              "      border-color: transparent;\n",
              "      border-right-color: var(--fill-color);\n",
              "      border-bottom-color: var(--fill-color);\n",
              "    }\n",
              "    90% {\n",
              "      border-color: transparent;\n",
              "      border-bottom-color: var(--fill-color);\n",
              "    }\n",
              "  }\n",
              "</style>\n",
              "\n",
              "  <script>\n",
              "    async function quickchart(key) {\n",
              "      const quickchartButtonEl =\n",
              "        document.querySelector('#' + key + ' button');\n",
              "      quickchartButtonEl.disabled = true;  // To prevent multiple clicks.\n",
              "      quickchartButtonEl.classList.add('colab-df-spinner');\n",
              "      try {\n",
              "        const charts = await google.colab.kernel.invokeFunction(\n",
              "            'suggestCharts', [key], {});\n",
              "      } catch (error) {\n",
              "        console.error('Error during call to suggestCharts:', error);\n",
              "      }\n",
              "      quickchartButtonEl.classList.remove('colab-df-spinner');\n",
              "      quickchartButtonEl.classList.add('colab-df-quickchart-complete');\n",
              "    }\n",
              "    (() => {\n",
              "      let quickchartButtonEl =\n",
              "        document.querySelector('#df-6b0f14da-9869-447f-bdba-74a8d7e5ccc3 button');\n",
              "      quickchartButtonEl.style.display =\n",
              "        google.colab.kernel.accessAllowed ? 'block' : 'none';\n",
              "    })();\n",
              "  </script>\n",
              "</div>\n",
              "    </div>\n",
              "  </div>\n"
            ]
          },
          "metadata": {},
          "execution_count": 30
        }
      ]
    },
    {
      "cell_type": "markdown",
      "source": [
        "## Evaluons le modèle\n",
        "\n",
        "### index jaccard\n",
        "\n",
        "Essayons l'index Jaccard pour évaluer la précision. nous pouvons définir jaccard comme la taille de l'intersection divisée par la taille de l'union des deux jeux d'étiquettes. Si l’ensemble des étiquettes prédites pour un échantillon correspond strictement au véritable ensemble d’étiquettes, alors la précision du sous-ensemble est de 1,0 ; sinon c'est 0,0."
      ],
      "metadata": {
        "id": "qvdhD9PSvELp"
      }
    },
    {
      "cell_type": "code",
      "source": [
        "from sklearn.metrics import jaccard_score\n",
        "jaccard_score(y_test, yhat, pos_label=0)"
      ],
      "metadata": {
        "colab": {
          "base_uri": "https://localhost:8080/"
        },
        "id": "IpznBjLQ1CFw",
        "outputId": "8a5b552c-f37e-4002-b76b-a32dfca02cee"
      },
      "execution_count": 33,
      "outputs": [
        {
          "output_type": "execute_result",
          "data": {
            "text/plain": [
              "0.7058823529411765"
            ]
          },
          "metadata": {},
          "execution_count": 33
        }
      ]
    },
    {
      "cell_type": "markdown",
      "source": [
        "### La matrice de confusion\n",
        "\n",
        "Une autre façon de vérifier l'exactitude du classificateur consiste à examiner la **matrice de confusion**."
      ],
      "metadata": {
        "id": "5cAoTDe_1mnV"
      }
    },
    {
      "cell_type": "code",
      "source": [
        "from sklearn.metrics import classification_report, confusion_matrix\n",
        "import itertools\n",
        "def plot_confusion_matrix(cm, classes,\n",
        "                          normalize=False,\n",
        "                          title='Confusion matrix',\n",
        "                          cmap=plt.cm.Blues):\n",
        "    \"\"\"\n",
        "     Cette fonction imprime et trace la matrice de confusion.\n",
        "     La normalisation peut être appliquée en définissant « normalize=True ».\n",
        "    \"\"\"\n",
        "    if normalize:\n",
        "        cm = cm.astype('float') / cm.sum(axis=1)[:, np.newaxis]\n",
        "        print(\"Normalized confusion matrix\")\n",
        "    else:\n",
        "        print('Confusion matrix, without normalization')\n",
        "\n",
        "    print(cm)\n",
        "\n",
        "    plt.imshow(cm, interpolation='nearest', cmap=cmap)\n",
        "    plt.title(title)\n",
        "    plt.colorbar()\n",
        "    tick_marks = np.arange(len(classes))\n",
        "    plt.xticks(tick_marks, classes, rotation=45)\n",
        "    plt.yticks(tick_marks, classes)\n",
        "\n",
        "    fmt = '.2f' if normalize else 'd'\n",
        "    thresh = cm.max() / 2.\n",
        "    for i, j in itertools.product(range(cm.shape[0]), range(cm.shape[1])):\n",
        "        plt.text(j, i, format(cm[i, j], fmt),\n",
        "                 horizontalalignment=\"center\",\n",
        "                 color=\"white\" if cm[i, j] > thresh else \"black\")\n",
        "\n",
        "    plt.tight_layout()\n",
        "    plt.ylabel('True label')\n",
        "    plt.xlabel('Predicted label')\n",
        "print(confusion_matrix(y_test, yhat, labels=[1,0]))"
      ],
      "metadata": {
        "colab": {
          "base_uri": "https://localhost:8080/"
        },
        "id": "tC691l_11paX",
        "outputId": "13c93e6a-141b-48b3-bdb7-5fcccb58139a"
      },
      "execution_count": 40,
      "outputs": [
        {
          "output_type": "stream",
          "name": "stdout",
          "text": [
            "[[ 6  9]\n",
            " [ 1 24]]\n"
          ]
        }
      ]
    },
    {
      "cell_type": "code",
      "source": [
        "# La matrice de confusion\n",
        "cnf_matrix = confusion_matrix(y_test, yhat, labels=[1,0])\n",
        "np.set_printoptions(precision=2)\n",
        "\n",
        "\n",
        "# Plot non-normalized confusion matrix\n",
        "plt.figure()\n",
        "plot_confusion_matrix(cnf_matrix, classes=['churn=1','churn=0'],normalize= False,  title='Confusion matrix')"
      ],
      "metadata": {
        "colab": {
          "base_uri": "https://localhost:8080/",
          "height": 558
        },
        "id": "YwCyPYHX25w1",
        "outputId": "11de2be1-f0bd-4474-c709-c6b95def5af3"
      },
      "execution_count": 41,
      "outputs": [
        {
          "output_type": "stream",
          "name": "stdout",
          "text": [
            "Confusion matrix, without normalization\n",
            "[[ 6  9]\n",
            " [ 1 24]]\n"
          ]
        },
        {
          "output_type": "display_data",
          "data": {
            "text/plain": [
              "<Figure size 640x480 with 2 Axes>"
            ],
            "image/png": "[encoded data removed]"
          },
          "metadata": {}
        }
      ]
    },
    {
      "cell_type": "markdown",
      "source": [
        "Regardons la première rangée. La première ligne concerne les clients dont la valeur réelle de désabonnement dans l’ensemble de test est 1.\n",
        "Comme vous pouvez le calculer, sur 40 clients, la valeur de désabonnement de 15 d’entre eux est de 1.\n",
        "Sur ces 15 cas, le classificateur a correctement prédit 6 d’entre eux comme 1 et 9 d’entre eux comme 0.\n",
        "\n",
        "Cela signifie que pour 6 clients, la valeur réelle de désabonnement était de 1 dans l'ensemble de test et le classificateur les a également prédit correctement à 1. Cependant, alors que l'étiquette réelle de 9 clients était de 1, le classificateur les a prédits à 0, ce qui n'est pas très bon. On peut le considérer comme l'erreur du modèle pour la première ligne.\n",
        "\n",
        "Qu’en est-il des clients avec une valeur de désabonnement de 0 ? Regardons la deuxième rangée.\n",
        "Il semble qu’il y ait 25 clients dont la valeur de désabonnement était de 0.\n",
        "\n",
        "Le classificateur a correctement prédit 24 d'entre eux comme 0, et l'un d'entre eux à tort comme 1. Il a donc fait du bon travail en prédisant les clients avec une valeur de désabonnement de 0. L'un des avantages de la matrice de confusion est qu'elle montre la capacité du modèle à prédire ou séparer correctement les classes. Dans un cas spécifique du classificateur binaire, comme cet exemple, nous pouvons interpréter ces nombres comme le nombre de vrais positifs, de faux positifs, de vrais négatifs et de faux négatifs."
      ],
      "metadata": {
        "id": "X_pY4BPg3Kt0"
      }
    },
    {
      "cell_type": "code",
      "source": [
        "print (classification_report(y_test, yhat))\n"
      ],
      "metadata": {
        "colab": {
          "base_uri": "https://localhost:8080/"
        },
        "id": "A-Y6ZEsb3Oay",
        "outputId": "f3a6c3b3-597a-4d74-8860-477231726111"
      },
      "execution_count": 42,
      "outputs": [
        {
          "output_type": "stream",
          "name": "stdout",
          "text": [
            "              precision    recall  f1-score   support\n",
            "\n",
            "         0.0       0.73      0.96      0.83        25\n",
            "         1.0       0.86      0.40      0.55        15\n",
            "\n",
            "    accuracy                           0.75        40\n",
            "   macro avg       0.79      0.68      0.69        40\n",
            "weighted avg       0.78      0.75      0.72        40\n",
            "\n"
          ]
        }
      ]
    },
    {
      "cell_type": "markdown",
      "source": [
        "En fonction du décompte de chaque section, nous pouvons calculer la précision et le rappel de chaque étiquette :\n",
        "\n",
        "* **La précision** est une mesure de l'exactitude à condition qu'une étiquette de classe ait été prédite. Il est défini par : précision = TP / (TP + FP)\n",
        "\n",
        "* **Recall** est le véritable taux de positivité. Il est défini comme : Rappel =  TP / (TP + FN)\n",
        "\n",
        "Ainsi, nous pouvons calculer la précision et le rappel de chaque classe.\n",
        "\n",
        "**F1 Score :**\n",
        "Nous sommes désormais en mesure de calculer les scores F1 pour chaque étiquette en fonction de la précision et du rappel de cette étiquette.\n",
        "\n",
        "Le score F1 est la moyenne harmonique de la précision et du rappel, où un score F1 atteint sa meilleure valeur à 1 (précision et rappel parfaits) et la pire à 0. C'est un bon moyen de montrer qu'un classificateur a une bonne valeur à la fois rappel et précision.\n",
        "\n",
        "Enfin, nous pouvons dire que la précision moyenne de ce classificateur est la moyenne du score F1 des deux étiquettes, qui est de 0,72 dans notre cas."
      ],
      "metadata": {
        "id": "hRNqNvhd4mHH"
      }
    },
    {
      "cell_type": "markdown",
      "source": [
        "### Log loss\n",
        "\n",
        "Maintenant, essayons la **log loss** pour évaluation. Dans la régression logistique, le résultat peut être que la probabilité de désabonnement des clients est oui (ou égale à 1). Cette probabilité est une valeur comprise entre 0 et 1.\n",
        "Log loss(perte logarithmique) mesure les performances d'un classificateur où la sortie prédite est une valeur de probabilité comprise entre 0 et 1."
      ],
      "metadata": {
        "id": "TcSgOlZm4olc"
      }
    },
    {
      "cell_type": "code",
      "source": [
        "from sklearn.metrics import log_loss\n",
        "log_loss(y_test, yhat_prob)"
      ],
      "metadata": {
        "colab": {
          "base_uri": "https://localhost:8080/"
        },
        "id": "dxG9NkZo5vDD",
        "outputId": "31019243-6f57-4ae9-b895-30150d0dd0c8"
      },
      "execution_count": 43,
      "outputs": [
        {
          "output_type": "execute_result",
          "data": {
            "text/plain": [
              "0.6017092478101185"
            ]
          },
          "metadata": {},
          "execution_count": 43
        }
      ]
    }
  ]
}